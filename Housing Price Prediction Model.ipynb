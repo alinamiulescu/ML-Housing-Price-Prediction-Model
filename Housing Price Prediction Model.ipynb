{
 "cells": [
  {
   "cell_type": "markdown",
   "metadata": {},
   "source": [
    "# Predicts the average housing price in each neighbourhood"
   ]
  },
  {
   "cell_type": "code",
   "execution_count": 1,
   "metadata": {},
   "outputs": [],
   "source": [
    "import math\n",
    "import numpy as np\n",
    "from pandas import Series, DataFrame\n",
    "import pandas as pd\n",
    "import matplotlib.pyplot as plt\n",
    "from sklearn import preprocessing\n",
    "from sklearn.preprocessing import normalize\n",
    "from sklearn.model_selection import train_test_split\n",
    "from sklearn.model_selection import cross_val_score\n",
    "\n",
    "#import scipy.stats as stats\n",
    "#plt.rc('figure', figsize=(10, 6))\n",
    "#%matplotlib inline\n",
    "\n",
    "from IPython.core.interactiveshell import InteractiveShell\n",
    "InteractiveShell.ast_node_interactivity = \"all\""
   ]
  },
  {
   "cell_type": "code",
   "execution_count": 2,
   "metadata": {},
   "outputs": [
    {
     "data": {
      "text/plain": [
       "17346"
      ]
     },
     "execution_count": 2,
     "metadata": {},
     "output_type": "execute_result"
    }
   ],
   "source": [
    "df=pd.read_excel('kwb-2016_del_col_del_row.xls', decimal=\",\")\n",
    "df.size"
   ]
  },
  {
   "cell_type": "markdown",
   "metadata": {},
   "source": [
    "<b>Problem 1: Data Preparation</b>"
   ]
  },
  {
   "cell_type": "markdown",
   "metadata": {},
   "source": [
    "a) Clean the data"
   ]
  },
  {
   "cell_type": "code",
   "execution_count": 3,
   "metadata": {
    "scrolled": false
   },
   "outputs": [
    {
     "data": {
      "text/plain": [
       "12095"
      ]
     },
     "execution_count": 3,
     "metadata": {},
     "output_type": "execute_result"
    }
   ],
   "source": [
    "#1. Drop missing values\n",
    "df.replace('.', np.nan, inplace=True)\n",
    "df.dropna(how='any', inplace=True)\n",
    "\n",
    "#2. Select neighborhoods\n",
    "df = df[df['recs']=='Buurt']\n",
    "\n",
    "#3. Create Y var\n",
    "# Transform all numerical columns into float64\n",
    "df.iloc[0:, 6:] = df.iloc[0:, 6:].astype(np.float64)\n",
    "# Calculate Y\n",
    "y = np.log(df['g_woz'])\n",
    "\n",
    "#4. Create X var\n",
    "X = df.iloc[0:, 6:]\n",
    "X.drop('g_woz', axis=1, inplace=True)\n",
    "# All numeric columns in X such that each row corresponds to a single geographic unit\n",
    "X = np.array(X)\n",
    "\n",
    "#5. Normalize X\n",
    "X = preprocessing.normalize(X)\n",
    "\n",
    "df.size"
   ]
  },
  {
   "cell_type": "markdown",
   "metadata": {},
   "source": [
    "b) Create train-test split [the split is 0.25/0.75 by default]"
   ]
  },
  {
   "cell_type": "code",
   "execution_count": 4,
   "metadata": {},
   "outputs": [],
   "source": [
    "X_train, X_test, y_train, y_test = train_test_split(X, y, random_state=10)"
   ]
  },
  {
   "cell_type": "markdown",
   "metadata": {},
   "source": [
    "c) What happens to the importance of regularization as the size of the training set increases? Why?"
   ]
  },
  {
   "cell_type": "markdown",
   "metadata": {},
   "source": [
    "- Its importance drops because there is enough data to prevent overfitting\n",
    "- Regularization prevents overfitting \n",
    "- \"Very large weights (w) that fit the training data very well, but poorly predict future data. \"Regularization” means modifying the optimization problem to prefer small weights (w)\""
   ]
  },
  {
   "cell_type": "markdown",
   "metadata": {},
   "source": [
    "<b>Problem 2: Linear Regression</b>"
   ]
  },
  {
   "cell_type": "code",
   "execution_count": 5,
   "metadata": {
    "scrolled": true
   },
   "outputs": [
    {
     "data": {
      "text/plain": [
       "array([0.68845342, 0.75459858, 0.84477035, 0.56804534, 0.71365288,\n",
       "       0.58096881, 0.12695587, 0.7739911 , 0.54208819, 0.60190247])"
      ]
     },
     "execution_count": 5,
     "metadata": {},
     "output_type": "execute_result"
    },
    {
     "name": "stdout",
     "output_type": "stream",
     "text": [
      "LinearRegression average performance:  0.620\n"
     ]
    }
   ],
   "source": [
    "from sklearn.linear_model import LinearRegression\n",
    "score = cross_val_score(LinearRegression(), X_train, y_train, cv=10)\n",
    "score\n",
    "print (\"LinearRegression average performance: {: .3f}\".format(score.mean()))"
   ]
  },
  {
   "cell_type": "markdown",
   "metadata": {},
   "source": [
    "<b>Problem 3: Ridge and Lasso Regression</b>"
   ]
  },
  {
   "cell_type": "markdown",
   "metadata": {
    "collapsed": true
   },
   "source": [
    "a) Ridge Regression"
   ]
  },
  {
   "cell_type": "code",
   "execution_count": 6,
   "metadata": {},
   "outputs": [
    {
     "name": "stdout",
     "output_type": "stream",
     "text": [
      "Best performance: the mean cross-validation accuracy on the training set)  0.625\n",
      "Best param: corresponding param  {'alpha': 1e-05}\n"
     ]
    }
   ],
   "source": [
    "from sklearn.linear_model import Ridge\n",
    "from sklearn.model_selection import GridSearchCV\n",
    "\n",
    "param_grid = {'alpha':np.logspace(-6,3,num=10)}\n",
    "grid_search_ridge = GridSearchCV(Ridge(), param_grid, return_train_score = True, cv=10).fit(X_train, y_train)\n",
    "\n",
    "print (\"Best performance: the mean cross-validation accuracy on the training set) {: .3f}\".format(grid_search_ridge.best_score_))\n",
    "print (\"Best param: corresponding param \", grid_search_ridge.best_params_)"
   ]
  },
  {
   "cell_type": "markdown",
   "metadata": {},
   "source": [
    "b) Lasso Regression"
   ]
  },
  {
   "cell_type": "code",
   "execution_count": 7,
   "metadata": {},
   "outputs": [
    {
     "name": "stderr",
     "output_type": "stream",
     "text": [
      "/anaconda3/lib/python3.6/site-packages/sklearn/linear_model/coordinate_descent.py:491: ConvergenceWarning: Objective did not converge. You might want to increase the number of iterations. Fitting data with very small alpha may cause precision problems.\n",
      "  ConvergenceWarning)\n",
      "/anaconda3/lib/python3.6/site-packages/sklearn/linear_model/coordinate_descent.py:491: ConvergenceWarning: Objective did not converge. You might want to increase the number of iterations. Fitting data with very small alpha may cause precision problems.\n",
      "  ConvergenceWarning)\n",
      "/anaconda3/lib/python3.6/site-packages/sklearn/linear_model/coordinate_descent.py:491: ConvergenceWarning: Objective did not converge. You might want to increase the number of iterations. Fitting data with very small alpha may cause precision problems.\n",
      "  ConvergenceWarning)\n",
      "/anaconda3/lib/python3.6/site-packages/sklearn/linear_model/coordinate_descent.py:491: ConvergenceWarning: Objective did not converge. You might want to increase the number of iterations. Fitting data with very small alpha may cause precision problems.\n",
      "  ConvergenceWarning)\n",
      "/anaconda3/lib/python3.6/site-packages/sklearn/linear_model/coordinate_descent.py:491: ConvergenceWarning: Objective did not converge. You might want to increase the number of iterations. Fitting data with very small alpha may cause precision problems.\n",
      "  ConvergenceWarning)\n",
      "/anaconda3/lib/python3.6/site-packages/sklearn/linear_model/coordinate_descent.py:491: ConvergenceWarning: Objective did not converge. You might want to increase the number of iterations. Fitting data with very small alpha may cause precision problems.\n",
      "  ConvergenceWarning)\n",
      "/anaconda3/lib/python3.6/site-packages/sklearn/linear_model/coordinate_descent.py:491: ConvergenceWarning: Objective did not converge. You might want to increase the number of iterations. Fitting data with very small alpha may cause precision problems.\n",
      "  ConvergenceWarning)\n",
      "/anaconda3/lib/python3.6/site-packages/sklearn/linear_model/coordinate_descent.py:491: ConvergenceWarning: Objective did not converge. You might want to increase the number of iterations. Fitting data with very small alpha may cause precision problems.\n",
      "  ConvergenceWarning)\n",
      "/anaconda3/lib/python3.6/site-packages/sklearn/linear_model/coordinate_descent.py:491: ConvergenceWarning: Objective did not converge. You might want to increase the number of iterations. Fitting data with very small alpha may cause precision problems.\n",
      "  ConvergenceWarning)\n",
      "/anaconda3/lib/python3.6/site-packages/sklearn/linear_model/coordinate_descent.py:491: ConvergenceWarning: Objective did not converge. You might want to increase the number of iterations. Fitting data with very small alpha may cause precision problems.\n",
      "  ConvergenceWarning)\n",
      "/anaconda3/lib/python3.6/site-packages/sklearn/linear_model/coordinate_descent.py:491: ConvergenceWarning: Objective did not converge. You might want to increase the number of iterations. Fitting data with very small alpha may cause precision problems.\n",
      "  ConvergenceWarning)\n",
      "/anaconda3/lib/python3.6/site-packages/sklearn/linear_model/coordinate_descent.py:491: ConvergenceWarning: Objective did not converge. You might want to increase the number of iterations. Fitting data with very small alpha may cause precision problems.\n",
      "  ConvergenceWarning)\n",
      "/anaconda3/lib/python3.6/site-packages/sklearn/linear_model/coordinate_descent.py:491: ConvergenceWarning: Objective did not converge. You might want to increase the number of iterations. Fitting data with very small alpha may cause precision problems.\n",
      "  ConvergenceWarning)\n",
      "/anaconda3/lib/python3.6/site-packages/sklearn/linear_model/coordinate_descent.py:491: ConvergenceWarning: Objective did not converge. You might want to increase the number of iterations. Fitting data with very small alpha may cause precision problems.\n",
      "  ConvergenceWarning)\n",
      "/anaconda3/lib/python3.6/site-packages/sklearn/linear_model/coordinate_descent.py:491: ConvergenceWarning: Objective did not converge. You might want to increase the number of iterations. Fitting data with very small alpha may cause precision problems.\n",
      "  ConvergenceWarning)\n",
      "/anaconda3/lib/python3.6/site-packages/sklearn/linear_model/coordinate_descent.py:491: ConvergenceWarning: Objective did not converge. You might want to increase the number of iterations. Fitting data with very small alpha may cause precision problems.\n",
      "  ConvergenceWarning)\n",
      "/anaconda3/lib/python3.6/site-packages/sklearn/linear_model/coordinate_descent.py:491: ConvergenceWarning: Objective did not converge. You might want to increase the number of iterations. Fitting data with very small alpha may cause precision problems.\n",
      "  ConvergenceWarning)\n",
      "/anaconda3/lib/python3.6/site-packages/sklearn/linear_model/coordinate_descent.py:491: ConvergenceWarning: Objective did not converge. You might want to increase the number of iterations. Fitting data with very small alpha may cause precision problems.\n",
      "  ConvergenceWarning)\n",
      "/anaconda3/lib/python3.6/site-packages/sklearn/linear_model/coordinate_descent.py:491: ConvergenceWarning: Objective did not converge. You might want to increase the number of iterations. Fitting data with very small alpha may cause precision problems.\n",
      "  ConvergenceWarning)\n",
      "/anaconda3/lib/python3.6/site-packages/sklearn/linear_model/coordinate_descent.py:491: ConvergenceWarning: Objective did not converge. You might want to increase the number of iterations. Fitting data with very small alpha may cause precision problems.\n",
      "  ConvergenceWarning)\n",
      "/anaconda3/lib/python3.6/site-packages/sklearn/linear_model/coordinate_descent.py:491: ConvergenceWarning: Objective did not converge. You might want to increase the number of iterations. Fitting data with very small alpha may cause precision problems.\n",
      "  ConvergenceWarning)\n"
     ]
    },
    {
     "name": "stdout",
     "output_type": "stream",
     "text": [
      "Best performance: the mean cross-validation accuracy on the training set)  0.609\n",
      "Best param: corresponding param  {'alpha': 1e-06}\n"
     ]
    },
    {
     "name": "stderr",
     "output_type": "stream",
     "text": [
      "/anaconda3/lib/python3.6/site-packages/sklearn/linear_model/coordinate_descent.py:491: ConvergenceWarning: Objective did not converge. You might want to increase the number of iterations. Fitting data with very small alpha may cause precision problems.\n",
      "  ConvergenceWarning)\n",
      "/anaconda3/lib/python3.6/site-packages/sklearn/linear_model/coordinate_descent.py:491: ConvergenceWarning: Objective did not converge. You might want to increase the number of iterations. Fitting data with very small alpha may cause precision problems.\n",
      "  ConvergenceWarning)\n"
     ]
    }
   ],
   "source": [
    "from sklearn.linear_model import Lasso\n",
    "from sklearn.model_selection import GridSearchCV\n",
    "\n",
    "param_grid = {'alpha':np.logspace(-6,3,num=10)}\n",
    "grid_search_lasso = GridSearchCV(Lasso(max_iter=1000), param_grid, return_train_score = True, cv=10).fit(X_train, y_train)\n",
    "\n",
    "print (\"Best performance: the mean cross-validation accuracy on the training set) {: .3f}\".format(grid_search_lasso.best_score_))\n",
    "print (\"Best param: corresponding param \", grid_search_lasso.best_params_)"
   ]
  },
  {
   "cell_type": "markdown",
   "metadata": {},
   "source": [
    "<b>Problem 4: Visualize performance</b>"
   ]
  },
  {
   "cell_type": "markdown",
   "metadata": {
    "collapsed": true
   },
   "source": [
    "a) Plot the average R^2 for train and test data set for Ridge/Lasso Regression models"
   ]
  },
  {
   "cell_type": "code",
   "execution_count": 8,
   "metadata": {},
   "outputs": [],
   "source": [
    "ridge_train_scores = grid_search_ridge.cv_results_['mean_train_score']\n",
    "ridge_test_scores = grid_search_ridge.cv_results_['mean_test_score']\n",
    "\n",
    "lasso_train_scores = grid_search_lasso.cv_results_['mean_train_score']\n",
    "lasso_test_scores = grid_search_lasso.cv_results_['mean_test_score']"
   ]
  },
  {
   "cell_type": "code",
   "execution_count": 9,
   "metadata": {},
   "outputs": [
    {
     "data": {
      "text/plain": [
       "<matplotlib.figure.Figure at 0x110f3fbe0>"
      ]
     },
     "execution_count": 9,
     "metadata": {},
     "output_type": "execute_result"
    },
    {
     "data": {
      "text/plain": [
       "Text(0.5,1,'Model Performance')"
      ]
     },
     "execution_count": 9,
     "metadata": {},
     "output_type": "execute_result"
    },
    {
     "data": {
      "text/plain": [
       "Text(0.5,0,'$\\\\alpha$ (alpha)')"
      ]
     },
     "execution_count": 9,
     "metadata": {},
     "output_type": "execute_result"
    },
    {
     "data": {
      "text/plain": [
       "Text(0,0.5,'Score')"
      ]
     },
     "execution_count": 9,
     "metadata": {},
     "output_type": "execute_result"
    },
    {
     "data": {
      "text/plain": [
       "[<matplotlib.lines.Line2D at 0x110f13c18>]"
      ]
     },
     "execution_count": 9,
     "metadata": {},
     "output_type": "execute_result"
    },
    {
     "data": {
      "text/plain": [
       "[<matplotlib.lines.Line2D at 0x110f43390>]"
      ]
     },
     "execution_count": 9,
     "metadata": {},
     "output_type": "execute_result"
    },
    {
     "data": {
      "text/plain": [
       "[<matplotlib.lines.Line2D at 0x112c14e10>]"
      ]
     },
     "execution_count": 9,
     "metadata": {},
     "output_type": "execute_result"
    },
    {
     "data": {
      "text/plain": [
       "[<matplotlib.lines.Line2D at 0x112c1ada0>]"
      ]
     },
     "execution_count": 9,
     "metadata": {},
     "output_type": "execute_result"
    },
    {
     "data": {
      "text/plain": [
       "<matplotlib.legend.Legend at 0x1a1c188b70>"
      ]
     },
     "execution_count": 9,
     "metadata": {},
     "output_type": "execute_result"
    },
    {
     "data": {
      "image/png": "[encoded data removed]",
      "text/plain": [
       "<matplotlib.figure.Figure at 0x110f3fbe0>"
      ]
     },
     "metadata": {},
     "output_type": "display_data"
    }
   ],
   "source": [
    "alphas = np.logspace(-6,3,num=10)\n",
    "\n",
    "plt.figure()\n",
    "plt.title('Model Performance')\n",
    "plt.xlabel('$\\\\alpha$ (alpha)')\n",
    "plt.ylabel('Score')\n",
    "\n",
    "plt.semilogx(alphas, ridge_train_scores, color='navy', label=\"Ridge train scores\")\n",
    "plt.semilogx(alphas, ridge_test_scores, '--', color='navy', label=\"Ridge test scores\")\n",
    "plt.semilogx(alphas, lasso_train_scores, color='darkred', label=\"Lasso train scores\")\n",
    "plt.semilogx(alphas, lasso_test_scores, '--', color='darkred', label=\"Lasso test scores\")\n",
    "\n",
    "plt.legend(loc='best')"
   ]
  },
  {
   "cell_type": "markdown",
   "metadata": {},
   "source": [
    "b) We can conclude that Ridge is a better fit for this training set than Lasso, for each 'alpha' considered in the cross-validation. Also, considering the data analized above:\n",
    "\n",
    "Ridge<br>\n",
    "R^2 = 0.625<br>\n",
    "alpha = 1e-05<br>\n",
    "\n",
    "Lasso<br>\n",
    "R^2 = 0.609<br>\n",
    "alpha = 1e-06<br>\n",
    "\n",
    "Therefore, <b>Ridge</b> provides a better prediction with a score of <b>R^2 = 0.625</b> and <b>alpha = 1e-05</b>."
   ]
  },
  {
   "cell_type": "markdown",
   "metadata": {},
   "source": [
    "c) Coeffients set to zero in the best Ridge/Lasso estimator "
   ]
  },
  {
   "cell_type": "code",
   "execution_count": 10,
   "metadata": {},
   "outputs": [
    {
     "name": "stdout",
     "output_type": "stream",
     "text": [
      "Coefficients set to zero in the best Ridge model:  0\n",
      "Coefficients set to zero in the best Lasso model:  2\n"
     ]
    }
   ],
   "source": [
    "r = grid_search_ridge.best_estimator_.coef_\n",
    "print (\"Coefficients set to zero in the best Ridge model: \", (r == 0).sum())\n",
    "\n",
    "l = grid_search_lasso.best_estimator_.coef_ \n",
    "print (\"Coefficients set to zero in the best Lasso model: \", (l == 0).sum())"
   ]
  },
  {
   "cell_type": "markdown",
   "metadata": {},
   "source": [
    "<b>Problem 5: Visualize the coefficients</b>"
   ]
  },
  {
   "cell_type": "markdown",
   "metadata": {},
   "source": [
    "a) Ridge regression coefficient profiles"
   ]
  },
  {
   "cell_type": "code",
   "execution_count": 11,
   "metadata": {
    "scrolled": true
   },
   "outputs": [],
   "source": [
    "r_coefs = []\n",
    "for alpha in np.logspace(-6,3,num=10):\n",
    "    #fit the model for each alpha\n",
    "    coef = Ridge(alpha=alpha).fit(X_train, y_train).coef_\n",
    "    r_coefs.append(coef) "
   ]
  },
  {
   "cell_type": "code",
   "execution_count": 12,
   "metadata": {},
   "outputs": [
    {
     "data": {
      "text/plain": [
       "<matplotlib.figure.Figure at 0x1a1c268240>"
      ]
     },
     "execution_count": 12,
     "metadata": {},
     "output_type": "execute_result"
    },
    {
     "data": {
      "text/plain": [
       "Text(0.5,1,'Ridge coefficient profiles')"
      ]
     },
     "execution_count": 12,
     "metadata": {},
     "output_type": "execute_result"
    },
    {
     "data": {
      "text/plain": [
       "Text(0.5,0,'$\\\\alpha$ (alpha)')"
      ]
     },
     "execution_count": 12,
     "metadata": {},
     "output_type": "execute_result"
    },
    {
     "data": {
      "text/plain": [
       "Text(0,0.5,'Coefficient')"
      ]
     },
     "execution_count": 12,
     "metadata": {},
     "output_type": "execute_result"
    },
    {
     "data": {
      "text/plain": [
       "[<matplotlib.lines.Line2D at 0x1a1c2cc668>,\n",
       " <matplotlib.lines.Line2D at 0x1a1c2f28d0>,\n",
       " <matplotlib.lines.Line2D at 0x1a1c2f2a20>,\n",
       " <matplotlib.lines.Line2D at 0x1a1c2f2b70>,\n",
       " <matplotlib.lines.Line2D at 0x1a1c2f2cc0>,\n",
       " <matplotlib.lines.Line2D at 0x1a1c2f2e10>,\n",
       " <matplotlib.lines.Line2D at 0x1a1c2f2f60>,\n",
       " <matplotlib.lines.Line2D at 0x1a1c3660f0>,\n",
       " <matplotlib.lines.Line2D at 0x1a1c366240>,\n",
       " <matplotlib.lines.Line2D at 0x1a1c366390>,\n",
       " <matplotlib.lines.Line2D at 0x1a1c2128d0>,\n",
       " <matplotlib.lines.Line2D at 0x1a1c3665f8>,\n",
       " <matplotlib.lines.Line2D at 0x1a1c366748>,\n",
       " <matplotlib.lines.Line2D at 0x1a1c366898>,\n",
       " <matplotlib.lines.Line2D at 0x1a1c3669e8>,\n",
       " <matplotlib.lines.Line2D at 0x1a1c366b38>,\n",
       " <matplotlib.lines.Line2D at 0x1a1c366c88>,\n",
       " <matplotlib.lines.Line2D at 0x1a1c366dd8>,\n",
       " <matplotlib.lines.Line2D at 0x1a1c366f28>,\n",
       " <matplotlib.lines.Line2D at 0x1a1c3780b8>,\n",
       " <matplotlib.lines.Line2D at 0x1a1c378208>,\n",
       " <matplotlib.lines.Line2D at 0x1a1c378358>,\n",
       " <matplotlib.lines.Line2D at 0x1a1c3784a8>,\n",
       " <matplotlib.lines.Line2D at 0x1a1c3785f8>,\n",
       " <matplotlib.lines.Line2D at 0x1a1c378748>,\n",
       " <matplotlib.lines.Line2D at 0x1a1c378898>,\n",
       " <matplotlib.lines.Line2D at 0x1a1c3789e8>,\n",
       " <matplotlib.lines.Line2D at 0x1a1c378b38>,\n",
       " <matplotlib.lines.Line2D at 0x1a1c378c88>,\n",
       " <matplotlib.lines.Line2D at 0x1a1c378dd8>,\n",
       " <matplotlib.lines.Line2D at 0x1a1c378f28>,\n",
       " <matplotlib.lines.Line2D at 0x1a1c37d0b8>,\n",
       " <matplotlib.lines.Line2D at 0x1a1c37d208>,\n",
       " <matplotlib.lines.Line2D at 0x1a1c37d358>,\n",
       " <matplotlib.lines.Line2D at 0x1a1c37d4a8>,\n",
       " <matplotlib.lines.Line2D at 0x1a1c37d5f8>,\n",
       " <matplotlib.lines.Line2D at 0x1a1c37d748>,\n",
       " <matplotlib.lines.Line2D at 0x1a1c37d898>,\n",
       " <matplotlib.lines.Line2D at 0x1a1c37d9e8>,\n",
       " <matplotlib.lines.Line2D at 0x1a1c37db38>,\n",
       " <matplotlib.lines.Line2D at 0x1a1c37dc88>,\n",
       " <matplotlib.lines.Line2D at 0x1a1c37ddd8>,\n",
       " <matplotlib.lines.Line2D at 0x1a1c37df28>,\n",
       " <matplotlib.lines.Line2D at 0x1a1c3820b8>,\n",
       " <matplotlib.lines.Line2D at 0x1a1c382208>,\n",
       " <matplotlib.lines.Line2D at 0x1a1c382358>,\n",
       " <matplotlib.lines.Line2D at 0x1a1c3824a8>,\n",
       " <matplotlib.lines.Line2D at 0x1a1c3825f8>,\n",
       " <matplotlib.lines.Line2D at 0x1a1c382748>,\n",
       " <matplotlib.lines.Line2D at 0x1a1c382898>,\n",
       " <matplotlib.lines.Line2D at 0x1a1c3829e8>,\n",
       " <matplotlib.lines.Line2D at 0x1a1c382b38>]"
      ]
     },
     "execution_count": 12,
     "metadata": {},
     "output_type": "execute_result"
    },
    {
     "data": {
      "image/png": "[encoded data removed]",
      "text/plain": [
       "<matplotlib.figure.Figure at 0x1a1c268240>"
      ]
     },
     "metadata": {},
     "output_type": "display_data"
    }
   ],
   "source": [
    "alphas = np.logspace(-6,3,num=10)\n",
    "\n",
    "plt.figure()\n",
    "plt.title('Ridge coefficient profiles')\n",
    "plt.xlabel('$\\\\alpha$ (alpha)')\n",
    "plt.ylabel('Coefficient')\n",
    "\n",
    "plt.semilogx(alphas, r_coefs)"
   ]
  },
  {
   "cell_type": "markdown",
   "metadata": {},
   "source": [
    "b) Lasso regression coefficient profiles"
   ]
  },
  {
   "cell_type": "code",
   "execution_count": 13,
   "metadata": {},
   "outputs": [
    {
     "name": "stderr",
     "output_type": "stream",
     "text": [
      "/anaconda3/lib/python3.6/site-packages/sklearn/linear_model/coordinate_descent.py:491: ConvergenceWarning: Objective did not converge. You might want to increase the number of iterations. Fitting data with very small alpha may cause precision problems.\n",
      "  ConvergenceWarning)\n"
     ]
    }
   ],
   "source": [
    "l_coefs = []\n",
    "for alpha in np.logspace(-6,3,num=10):\n",
    "    #fit the model for each alpha\n",
    "    coef = Lasso(alpha=alpha).fit(X_train, y_train).coef_\n",
    "    l_coefs.append(coef) "
   ]
  },
  {
   "cell_type": "code",
   "execution_count": 14,
   "metadata": {},
   "outputs": [
    {
     "data": {
      "text/plain": [
       "<matplotlib.figure.Figure at 0x1a1c2a7320>"
      ]
     },
     "execution_count": 14,
     "metadata": {},
     "output_type": "execute_result"
    },
    {
     "data": {
      "text/plain": [
       "Text(0.5,1,'Lasso coefficient profiles')"
      ]
     },
     "execution_count": 14,
     "metadata": {},
     "output_type": "execute_result"
    },
    {
     "data": {
      "text/plain": [
       "Text(0.5,0,'$\\\\alpha$ (alpha)')"
      ]
     },
     "execution_count": 14,
     "metadata": {},
     "output_type": "execute_result"
    },
    {
     "data": {
      "text/plain": [
       "Text(0,0.5,'Coefficient')"
      ]
     },
     "execution_count": 14,
     "metadata": {},
     "output_type": "execute_result"
    },
    {
     "data": {
      "text/plain": [
       "[<matplotlib.lines.Line2D at 0x110f41b70>,\n",
       " <matplotlib.lines.Line2D at 0x1a1c473b38>,\n",
       " <matplotlib.lines.Line2D at 0x1a1c473c88>,\n",
       " <matplotlib.lines.Line2D at 0x1a1c473dd8>,\n",
       " <matplotlib.lines.Line2D at 0x1a1c473f28>,\n",
       " <matplotlib.lines.Line2D at 0x1a1c4980b8>,\n",
       " <matplotlib.lines.Line2D at 0x1a1c498208>,\n",
       " <matplotlib.lines.Line2D at 0x1a1c498358>,\n",
       " <matplotlib.lines.Line2D at 0x1a1c4984a8>,\n",
       " <matplotlib.lines.Line2D at 0x1a1c4985f8>,\n",
       " <matplotlib.lines.Line2D at 0x1a1c2bf550>,\n",
       " <matplotlib.lines.Line2D at 0x1a1c498860>,\n",
       " <matplotlib.lines.Line2D at 0x1a1c4989b0>,\n",
       " <matplotlib.lines.Line2D at 0x1a1c498b00>,\n",
       " <matplotlib.lines.Line2D at 0x1a1c498c50>,\n",
       " <matplotlib.lines.Line2D at 0x1a1c498da0>,\n",
       " <matplotlib.lines.Line2D at 0x1a1c498ef0>,\n",
       " <matplotlib.lines.Line2D at 0x1a1c374080>,\n",
       " <matplotlib.lines.Line2D at 0x1a1c3741d0>,\n",
       " <matplotlib.lines.Line2D at 0x1a1c374320>,\n",
       " <matplotlib.lines.Line2D at 0x1a1c374470>,\n",
       " <matplotlib.lines.Line2D at 0x1a1c3745c0>,\n",
       " <matplotlib.lines.Line2D at 0x1a1c374710>,\n",
       " <matplotlib.lines.Line2D at 0x1a1c374860>,\n",
       " <matplotlib.lines.Line2D at 0x1a1c3749b0>,\n",
       " <matplotlib.lines.Line2D at 0x1a1c374b00>,\n",
       " <matplotlib.lines.Line2D at 0x1a1c374c50>,\n",
       " <matplotlib.lines.Line2D at 0x1a1c374da0>,\n",
       " <matplotlib.lines.Line2D at 0x1a1c374ef0>,\n",
       " <matplotlib.lines.Line2D at 0x1a1c371080>,\n",
       " <matplotlib.lines.Line2D at 0x1a1c3711d0>,\n",
       " <matplotlib.lines.Line2D at 0x1a1c371320>,\n",
       " <matplotlib.lines.Line2D at 0x1a1c371470>,\n",
       " <matplotlib.lines.Line2D at 0x1a1c3715c0>,\n",
       " <matplotlib.lines.Line2D at 0x1a1c371710>,\n",
       " <matplotlib.lines.Line2D at 0x1a1c371860>,\n",
       " <matplotlib.lines.Line2D at 0x1a1c3719b0>,\n",
       " <matplotlib.lines.Line2D at 0x1a1c371b00>,\n",
       " <matplotlib.lines.Line2D at 0x1a1c371c50>,\n",
       " <matplotlib.lines.Line2D at 0x1a1c371da0>,\n",
       " <matplotlib.lines.Line2D at 0x1a1c371ef0>,\n",
       " <matplotlib.lines.Line2D at 0x1a1c23f080>,\n",
       " <matplotlib.lines.Line2D at 0x1a1c23f1d0>,\n",
       " <matplotlib.lines.Line2D at 0x1a1c23f320>,\n",
       " <matplotlib.lines.Line2D at 0x1a1c23f470>,\n",
       " <matplotlib.lines.Line2D at 0x1a1c23f5c0>,\n",
       " <matplotlib.lines.Line2D at 0x1a1c23f710>,\n",
       " <matplotlib.lines.Line2D at 0x1a1c23f860>,\n",
       " <matplotlib.lines.Line2D at 0x1a1c23f9b0>,\n",
       " <matplotlib.lines.Line2D at 0x1a1c23fb00>,\n",
       " <matplotlib.lines.Line2D at 0x1a1c23fc50>,\n",
       " <matplotlib.lines.Line2D at 0x1a1c23fda0>]"
      ]
     },
     "execution_count": 14,
     "metadata": {},
     "output_type": "execute_result"
    },
    {
     "data": {
      "image/png": "[encoded data removed]",
      "text/plain": [
       "<matplotlib.figure.Figure at 0x1a1c2a7320>"
      ]
     },
     "metadata": {},
     "output_type": "display_data"
    }
   ],
   "source": [
    "alphas = np.logspace(-6,3,num=10)\n",
    "\n",
    "plt.figure()\n",
    "plt.title('Lasso coefficient profiles')\n",
    "plt.xlabel('$\\\\alpha$ (alpha)')\n",
    "plt.ylabel('Coefficient')\n",
    "\n",
    "plt.semilogx(alphas, l_coefs)"
   ]
  },
  {
   "cell_type": "markdown",
   "metadata": {},
   "source": [
    "c) Interpretation: <br>\n",
    "Ridge uses a L2 regularization, for which a small alpha allows coefficients to be less restrictive <br>\n",
    "Whereas, Lasso uses an L1 regularization, where even small alphas force some coefficients to be exact zero"
   ]
  },
  {
   "cell_type": "markdown",
   "metadata": {},
   "source": [
    "<b>Problem 6: Classification problem</b>"
   ]
  },
  {
   "cell_type": "markdown",
   "metadata": {},
   "source": [
    "a) Classification problem: Low vs High house prices in a particular city/neighbourhood"
   ]
  },
  {
   "cell_type": "code",
   "execution_count": 15,
   "metadata": {},
   "outputs": [
    {
     "data": {
      "text/plain": [
       "12300"
      ]
     },
     "execution_count": 15,
     "metadata": {},
     "output_type": "execute_result"
    }
   ],
   "source": [
    "#Create a new column which contains the class label - y, the taget variable, with the following assumptions:\n",
    "#1. Class 0 represents low price properties; Class 1 represents high price properties\n",
    "#2. The class label is calculated based on the WOZ value: \n",
    "#   if WOZ value is less than threshold, then the record is a class 0 element \n",
    "#   if WOZ value is higher than threshold, then the record is a class 1 element \n",
    "#3. The class boundary, the threshold, is considered to be the mean price of all data points \n",
    "threshold = df['g_woz'].mean()\n",
    "df[\"price\"] = np.where(df['g_woz']<=threshold, 0, 1)\n",
    "\n",
    "#Select a particular city\n",
    "#df2 = df[df[\"gm_naam\"]=='Amsterdam']\n",
    "#OR Use the entre dataset\n",
    "df2 = df\n",
    "\n",
    "df2.size"
   ]
  },
  {
   "cell_type": "markdown",
   "metadata": {},
   "source": [
    "b) K-nearest neighbours classifier"
   ]
  },
  {
   "cell_type": "code",
   "execution_count": 16,
   "metadata": {},
   "outputs": [],
   "source": [
    "#Create Y2 var\n",
    "y2 = df2[\"price\"]\n",
    "\n",
    "#Create X2 var\n",
    "X2 = df2.iloc[0:, 6:]\n",
    "X2.drop('price', axis=1, inplace=True)\n",
    "X2 = np.array(X2)\n",
    "\n",
    "#Normalize X2\n",
    "X2 = preprocessing.normalize(X2)\n",
    "\n",
    "#Create train-test split \n",
    "X2_train, X2_test, y2_train, y2_test = train_test_split(X2, y2, random_state=10)"
   ]
  },
  {
   "cell_type": "code",
   "execution_count": 17,
   "metadata": {},
   "outputs": [
    {
     "name": "stdout",
     "output_type": "stream",
     "text": [
      "KNeighborsClassifier train set score:  0.837\n",
      "KNeighborsClassifier test set score:  0.712\n"
     ]
    }
   ],
   "source": [
    "from sklearn.neighbors import KNeighborsClassifier\n",
    "\n",
    "knn = KNeighborsClassifier(n_neighbors=5).fit(X2_train, y2_train)\n",
    "\n",
    "print (\"KNeighborsClassifier train set score: {: .3f}\".format(knn.score(X2_train, y2_train)))\n",
    "print (\"KNeighborsClassifier test set score: {: .3f}\".format(knn.score(X2_test, y2_test)))\n"
   ]
  },
  {
   "cell_type": "markdown",
   "metadata": {},
   "source": [
    "c) Linear models for classification: Logistic Regression"
   ]
  },
  {
   "cell_type": "code",
   "execution_count": 18,
   "metadata": {},
   "outputs": [
    {
     "name": "stdout",
     "output_type": "stream",
     "text": [
      "LogisticRegression train set score:  0.948\n",
      "LogisticRegression test set score:  0.865\n"
     ]
    }
   ],
   "source": [
    "from sklearn.linear_model import LogisticRegression\n",
    "\n",
    "lgr = LogisticRegression(C=1500).fit(X2_train, y2_train)\n",
    "\n",
    "print (\"LogisticRegression train set score: {: .3f}\".format(lgr.score(X2_train, y2_train)))\n",
    "print (\"LogisticRegression test set score: {: .3f}\".format(lgr.score(X2_test, y2_test)))\n"
   ]
  },
  {
   "cell_type": "markdown",
   "metadata": {},
   "source": [
    "d) Which model works best and why?"
   ]
  },
  {
   "cell_type": "markdown",
   "metadata": {},
   "source": [
    "<b>LogisticRegression</b> provides a better performance, by adjusting the regularization parameter to C = 1500. As a result we get high scores for both training and test sets, 0.95 and 0.86 respectively. \n",
    "\n",
    "\n",
    "The K-nearest neighbours classifier provides a much lower score, LogisticRegression. Complexity of the model being asjused thigh the number of neighbours considered."
   ]
  },
  {
   "cell_type": "code",
   "execution_count": null,
   "metadata": {},
   "outputs": [],
   "source": []
  }
 ],
 "metadata": {
  "kernelspec": {
   "display_name": "Python 3",
   "language": "python",
   "name": "python3"
  },
  "language_info": {
   "codemirror_mode": {
    "name": "ipython",
    "version": 3
   },
   "file_extension": ".py",
   "mimetype": "text/x-python",
   "name": "python",
   "nbconvert_exporter": "python",
   "pygments_lexer": "ipython3",
   "version": "3.6.4"
  }
 },
 "nbformat": 4,
 "nbformat_minor": 2
}
